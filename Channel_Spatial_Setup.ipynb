{
  "nbformat": 4,
  "nbformat_minor": 0,
  "metadata": {
    "colab": {
      "provenance": []
    },
    "kernelspec": {
      "name": "python3",
      "display_name": "Python 3"
    },
    "language_info": {
      "name": "python"
    }
  },
  "cells": [
    {
      "cell_type": "markdown",
      "source": [
        "https://www.multichannelsystems.com/sites/multichannelsystems.com/files/documents/data_sheets/MCS_24W700_100F-288_Layout.pdf"
      ],
      "metadata": {
        "id": "9cdeMLwCbaZQ"
      }
    },
    {
      "cell_type": "code",
      "execution_count": 3,
      "metadata": {
        "colab": {
          "base_uri": "https://localhost:8080/"
        },
        "id": "6lucS-N-Of8t",
        "outputId": "97654d53-d717-4568-fc0b-6c9257da16f7"
      },
      "outputs": [
        {
          "output_type": "stream",
          "name": "stdout",
          "text": [
            "Mounted at /content/drive\n",
            "File does not exist.\n"
          ]
        }
      ],
      "source": [
        "import pandas as pd\n",
        "\n",
        "#mount Google Drive to access files\n",
        "from google.colab import drive\n",
        "drive.mount('/content/drive')\n",
        "\n",
        "file_path = '/content/drive/MyDrive/Data/2.csv'\n",
        "import os.path\n",
        "\n",
        "#Double-Check that file can be opened and found by notebook\n",
        "if os.path.isfile(file_path):\n",
        "   print(\"File exists.\")\n",
        "else:\n",
        "   print(\"File does not exist.\")"
      ]
    },
    {
      "cell_type": "code",
      "source": [
        "# specify your path\n",
        "file_path = '/2.csv'\n",
        "\n",
        "# read the csv file\n",
        "data = pd.read_csv(file_path)\n",
        "\n",
        "print(data)"
      ],
      "metadata": {
        "id": "JTYkDMjJOtQS",
        "colab": {
          "base_uri": "https://localhost:8080/"
        },
        "outputId": "381cf72b-0a37-43d7-eafe-da398194f97d"
      },
      "execution_count": 6,
      "outputs": [
        {
          "output_type": "stream",
          "name": "stdout",
          "text": [
            "     Channel ID  Channel Label  Well ID Well Label Compound ID  Compound Name  \\\n",
            "0             4             21        0         A1       WT.NM            NaN   \n",
            "1             6             31        0         A1       WT.NM            NaN   \n",
            "2             2             12        0         A1       WT.NM            NaN   \n",
            "3             5             22        0         A1       WT.NM            NaN   \n",
            "4             7             32        0         A1       WT.NM            NaN   \n",
            "..          ...            ...      ...        ...         ...            ...   \n",
            "139         132             23       11         B6       WT.NM            NaN   \n",
            "140         140             33       11         B6       WT.NM            NaN   \n",
            "141         143             43       11         B6       WT.NM            NaN   \n",
            "142         133             24       11         B6       WT.NM            NaN   \n",
            "143         142             34       11         B6       WT.NM            NaN   \n",
            "\n",
            "                 Experiment  Dose [pM] Dose Label  Spike Count  ...  \\\n",
            "0    20230605_WT.NM_Control          0    Control            9  ...   \n",
            "1    20230605_WT.NM_Control          0    Control           11  ...   \n",
            "2    20230605_WT.NM_Control          0    Control           18  ...   \n",
            "3    20230605_WT.NM_Control          0    Control           11  ...   \n",
            "4    20230605_WT.NM_Control          0    Control           14  ...   \n",
            "..                      ...        ...        ...          ...  ...   \n",
            "139  20230605_WT.NM_Control          0    Control          758  ...   \n",
            "140  20230605_WT.NM_Control          0    Control           15  ...   \n",
            "141  20230605_WT.NM_Control          0    Control           11  ...   \n",
            "142  20230605_WT.NM_Control          0    Control          550  ...   \n",
            "143  20230605_WT.NM_Control          0    Control            8  ...   \n",
            "\n",
            "     Mean Burst Spike Rate [Hz]  Percentage Spikes in Burst  \\\n",
            "0                           NaN                       0.000   \n",
            "1                           NaN                       0.000   \n",
            "2                           NaN                       0.000   \n",
            "3                           NaN                       0.000   \n",
            "4                           NaN                       0.000   \n",
            "..                          ...                         ...   \n",
            "139                      26.635                      44.987   \n",
            "140                         NaN                       0.000   \n",
            "141                         NaN                       0.000   \n",
            "142                         NaN                       0.000   \n",
            "143                         NaN                       0.000   \n",
            "\n",
            "     Mean Interburst Interval [µs]  Active Channel  Network Burst Count  \\\n",
            "0                              NaN           False                    0   \n",
            "1                              NaN           False                    0   \n",
            "2                              NaN           False                    0   \n",
            "3                              NaN           False                    0   \n",
            "4                              NaN           False                    0   \n",
            "..                             ...             ...                  ...   \n",
            "139                   1.181933e+07            True                   46   \n",
            "140                            NaN           False                   46   \n",
            "141                            NaN           False                   46   \n",
            "142                            NaN            True                   46   \n",
            "143                            NaN           False                   46   \n",
            "\n",
            "     Mean Network Burst Duration [µs]  Mean Network Burst Spike Count  \\\n",
            "0                                 NaN                             NaN   \n",
            "1                                 NaN                             NaN   \n",
            "2                                 NaN                             NaN   \n",
            "3                                 NaN                             NaN   \n",
            "4                                 NaN                             NaN   \n",
            "..                                ...                             ...   \n",
            "139                        280519.565                          16.761   \n",
            "140                        280519.565                          16.761   \n",
            "141                        280519.565                          16.761   \n",
            "142                        280519.565                          16.761   \n",
            "143                        280519.565                          16.761   \n",
            "\n",
            "     Mean Network Burst Spike Rate [Hz]  Percentage Spikes in Network Burst  \\\n",
            "0                                   NaN                                 NaN   \n",
            "1                                   NaN                                 NaN   \n",
            "2                                   NaN                                 NaN   \n",
            "3                                   NaN                                 NaN   \n",
            "4                                   NaN                                 NaN   \n",
            "..                                  ...                                 ...   \n",
            "139                               5.166                              18.569   \n",
            "140                               5.166                              18.569   \n",
            "141                               5.166                              18.569   \n",
            "142                               5.166                              18.569   \n",
            "143                               5.166                              18.569   \n",
            "\n",
            "     Mean Network Interburst Interval [µs]  \n",
            "0                                      NaN  \n",
            "1                                      NaN  \n",
            "2                                      NaN  \n",
            "3                                      NaN  \n",
            "4                                      NaN  \n",
            "..                                     ...  \n",
            "139                             12622080.0  \n",
            "140                             12622080.0  \n",
            "141                             12622080.0  \n",
            "142                             12622080.0  \n",
            "143                             12622080.0  \n",
            "\n",
            "[144 rows x 24 columns]\n"
          ]
        }
      ]
    },
    {
      "cell_type": "code",
      "source": [
        "import numpy as np\n",
        "\n",
        "# Initialize a dictionary to hold the channel matrices for each well\n",
        "well_matrices = {}\n",
        "\n",
        "# Assign channel labels to the correct positions in the matrix\n",
        "# Now, channel_positions dictionary keys are integers, not strings\n",
        "channel_positions = {\n",
        "    21: (0, 1),\n",
        "    31: (0, 2),\n",
        "    12: (1, 0),\n",
        "    22: (1, 1),\n",
        "    32: (1, 2),\n",
        "    42: (1, 3),\n",
        "    13: (2, 0),\n",
        "    23: (2, 1),\n",
        "    33: (2, 2),\n",
        "    43: (2, 3),\n",
        "    24: (3, 1),\n",
        "    34: (3, 2)\n",
        "}\n",
        "\n",
        "# Go through each well\n",
        "for well in data['Well Label'].unique():\n",
        "    # Get the data for this well\n",
        "    well_data = data[data['Well Label'] == well]\n",
        "    \n",
        "    # Create the empty 4x4 matrix\n",
        "    channel_matrix = np.empty((4, 4), dtype=object)\n",
        "    \n",
        "    # Go through each channel in the well data\n",
        "    for channel_label in channel_positions:\n",
        "        # If the channel label is in the well data, store it in the correct position\n",
        "        if channel_label in well_data['Channel Label'].unique():\n",
        "            channel_matrix[channel_positions[channel_label]] = channel_label\n",
        "            \n",
        "    # Store the channel matrix in the well_matrices dictionary\n",
        "    well_matrices[well] = channel_matrix\n",
        "\n",
        "\n",
        "for well_label, channel_matrix in well_matrices.items():\n",
        "    print(f\"Well Label: {well_label}\")\n",
        "    print(\"Channel Matrix:\")\n",
        "    print(channel_matrix)\n",
        "    print(\"\\n\")\n"
      ],
      "metadata": {
        "id": "1dJBdjnWfT0H",
        "outputId": "60716f51-2d51-4dca-b18b-f22c5e4d45d4",
        "colab": {
          "base_uri": "https://localhost:8080/"
        }
      },
      "execution_count": 8,
      "outputs": [
        {
          "output_type": "stream",
          "name": "stdout",
          "text": [
            "Well Label: A1\n",
            "Channel Matrix:\n",
            "[[None 21 31 None]\n",
            " [12 22 32 42]\n",
            " [13 23 33 43]\n",
            " [None 24 34 None]]\n",
            "\n",
            "\n",
            "Well Label: A2\n",
            "Channel Matrix:\n",
            "[[None 21 31 None]\n",
            " [12 22 32 42]\n",
            " [13 23 33 43]\n",
            " [None 24 34 None]]\n",
            "\n",
            "\n",
            "Well Label: A3\n",
            "Channel Matrix:\n",
            "[[None 21 31 None]\n",
            " [12 22 32 42]\n",
            " [13 23 33 43]\n",
            " [None 24 34 None]]\n",
            "\n",
            "\n",
            "Well Label: A4\n",
            "Channel Matrix:\n",
            "[[None 21 31 None]\n",
            " [12 22 32 42]\n",
            " [13 23 33 43]\n",
            " [None 24 34 None]]\n",
            "\n",
            "\n",
            "Well Label: A5\n",
            "Channel Matrix:\n",
            "[[None 21 31 None]\n",
            " [12 22 32 42]\n",
            " [13 23 33 43]\n",
            " [None 24 34 None]]\n",
            "\n",
            "\n",
            "Well Label: A6\n",
            "Channel Matrix:\n",
            "[[None 21 31 None]\n",
            " [12 22 32 42]\n",
            " [13 23 33 43]\n",
            " [None 24 34 None]]\n",
            "\n",
            "\n",
            "Well Label: B1\n",
            "Channel Matrix:\n",
            "[[None 21 31 None]\n",
            " [12 22 32 42]\n",
            " [13 23 33 43]\n",
            " [None 24 34 None]]\n",
            "\n",
            "\n",
            "Well Label: B2\n",
            "Channel Matrix:\n",
            "[[None 21 31 None]\n",
            " [12 22 32 42]\n",
            " [13 23 33 43]\n",
            " [None 24 34 None]]\n",
            "\n",
            "\n",
            "Well Label: B3\n",
            "Channel Matrix:\n",
            "[[None 21 31 None]\n",
            " [12 22 32 42]\n",
            " [13 23 33 43]\n",
            " [None 24 34 None]]\n",
            "\n",
            "\n",
            "Well Label: B4\n",
            "Channel Matrix:\n",
            "[[None 21 31 None]\n",
            " [12 22 32 42]\n",
            " [13 23 33 43]\n",
            " [None 24 34 None]]\n",
            "\n",
            "\n",
            "Well Label: B5\n",
            "Channel Matrix:\n",
            "[[None 21 31 None]\n",
            " [12 22 32 42]\n",
            " [13 23 33 43]\n",
            " [None 24 34 None]]\n",
            "\n",
            "\n",
            "Well Label: B6\n",
            "Channel Matrix:\n",
            "[[None 21 31 None]\n",
            " [12 22 32 42]\n",
            " [13 23 33 43]\n",
            " [None 24 34 None]]\n",
            "\n",
            "\n"
          ]
        }
      ]
    },
    {
      "cell_type": "code",
      "source": [
        "print(\"Unique Well Labels:\", data['Well Label'].unique())\n",
        "print(\"Unique Channel Labels:\", data['Channel Label'].unique())\n"
      ],
      "metadata": {
        "colab": {
          "base_uri": "https://localhost:8080/"
        },
        "id": "TXEquAwNkxH-",
        "outputId": "720f5e55-2fea-49f6-9fdd-67955e067265"
      },
      "execution_count": 10,
      "outputs": [
        {
          "output_type": "stream",
          "name": "stdout",
          "text": [
            "Unique Well Labels: ['A1' 'A2' 'A3' 'A4' 'A5' 'A6' 'B1' 'B2' 'B3' 'B4' 'B5' 'B6']\n",
            "Unique Channel Labels: [21 31 12 22 32 42 13 23 33 43 24 34]\n"
          ]
        }
      ]
    },
    {
      "cell_type": "code",
      "source": [
        "def visualize_spike_data(well_label):\n",
        "    well_data = data[data['Well Label'] == well_label]\n",
        "    \n",
        "    # Create empty matrices for spike count and spike rate\n",
        "    spike_count_matrix = [[None]*4 for _ in range(4)]\n",
        "    spike_rate_matrix = [[None]*4 for _ in range(4)]\n",
        "    \n",
        "    # Iterate through each row in well data\n",
        "    for i, row in well_data.iterrows():\n",
        "        channel_label = str(row['Channel Label'])\n",
        "        \n",
        "        # Convert the channel label to matrix indices\n",
        "        row_idx = int(channel_label[0]) - 1\n",
        "        col_idx = int(channel_label[1]) - 1\n",
        "        \n",
        "        # Fill the matrices\n",
        "        spike_count_matrix[row_idx][col_idx] = row['Spike Count']\n",
        "        spike_rate_matrix[row_idx][col_idx] = row['Spike Rate [Hz]']\n",
        "        \n",
        "    print('Well Label:', well_label)\n",
        "    print('Spike Count Matrix:')\n",
        "    for row in spike_count_matrix:\n",
        "        print(row)\n",
        "        \n",
        "    print('Spike Rate Matrix:')\n",
        "    for row in spike_rate_matrix:\n",
        "        print(row)\n",
        "\n",
        "# Test the function with 'A1' well label\n",
        "visualize_spike_data('A1')\n"
      ],
      "metadata": {
        "colab": {
          "base_uri": "https://localhost:8080/"
        },
        "id": "lZVURmNalE93",
        "outputId": "4b98b1ed-69bb-48dc-f5b0-133abb85f149"
      },
      "execution_count": 19,
      "outputs": [
        {
          "output_type": "stream",
          "name": "stdout",
          "text": [
            "Well Label: A1\n",
            "Spike Count Matrix:\n",
            "[None, 18, 10, None]\n",
            "[9, 11, 8, 9]\n",
            "[11, 14, 382, 21]\n",
            "[None, 11, 387, None]\n",
            "Spike Rate Matrix:\n",
            "[None, 0.03, 0.017, None]\n",
            "[0.015, 0.018, 0.013, 0.015]\n",
            "[0.018, 0.023, 0.637, 0.035]\n",
            "[None, 0.018, 0.645, None]\n"
          ]
        }
      ]
    },
    {
      "cell_type": "code",
      "source": [
        "def visualize_spike_data(well_label):\n",
        "    well_data = data[data['Well Label'] == well_label]\n",
        "    \n",
        "    # Create empty matrices for spike count and spike rate\n",
        "    spike_count_matrix = [[None]*4 for _ in range(4)]\n",
        "    spike_rate_matrix = [[None]*4 for _ in range(4)]\n",
        "    \n",
        "    # Iterate through each row in well data\n",
        "    for i, row in well_data.iterrows():\n",
        "        channel_label = str(row['Channel Label'])\n",
        "        \n",
        "        # Convert the channel label to matrix indices\n",
        "        row_idx = int(channel_label[0]) - 1\n",
        "        col_idx = int(channel_label[1]) - 1\n",
        "        \n",
        "        # Fill the matrices\n",
        "        spike_count_matrix[row_idx][col_idx] = row['Spike Count']\n",
        "        spike_rate_matrix[row_idx][col_idx] = row['Spike Rate [Hz]']\n",
        "        \n",
        "    # Transpose the matrices\n",
        "    spike_count_matrix_transposed = list(map(list, zip(*spike_count_matrix)))\n",
        "    spike_rate_matrix_transposed = list(map(list, zip(*spike_rate_matrix)))\n",
        "\n",
        "    print('Well Label:', well_label)\n",
        "    print('Transposed Spike Count Matrix:')\n",
        "    for row in spike_count_matrix_transposed:\n",
        "        print(row)\n",
        "        \n",
        "    print('Transposed Spike Rate Matrix:')\n",
        "    for row in spike_rate_matrix_transposed:\n",
        "        print(row)\n",
        "\n",
        "# Test the function with 'A1' well label\n",
        "visualize_spike_data('A1')\n"
      ],
      "metadata": {
        "colab": {
          "base_uri": "https://localhost:8080/"
        },
        "id": "vgoumfQwmlNb",
        "outputId": "b2a53a2c-8a46-4a55-da8f-23f7a8438c3e"
      },
      "execution_count": 21,
      "outputs": [
        {
          "output_type": "stream",
          "name": "stdout",
          "text": [
            "Well Label: A1\n",
            "Transposed Spike Count Matrix:\n",
            "[None, 9, 11, None]\n",
            "[18, 11, 14, 11]\n",
            "[10, 8, 382, 387]\n",
            "[None, 9, 21, None]\n",
            "Transposed Spike Rate Matrix:\n",
            "[None, 0.015, 0.018, None]\n",
            "[0.03, 0.018, 0.023, 0.018]\n",
            "[0.017, 0.013, 0.637, 0.645]\n",
            "[None, 0.015, 0.035, None]\n"
          ]
        }
      ]
    }
  ]
}